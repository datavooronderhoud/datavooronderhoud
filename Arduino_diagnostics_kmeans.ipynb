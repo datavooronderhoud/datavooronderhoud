{
 "cells": [
  {
   "cell_type": "code",
   "execution_count": 1,
   "metadata": {},
   "outputs": [],
   "source": [
    "import pandas as pd\n",
    "import numpy as np\n",
    "import matplotlib.pyplot as plt"
   ]
  },
  {
   "cell_type": "code",
   "execution_count": 2,
   "metadata": {},
   "outputs": [],
   "source": [
    "#load some data in a pandas dataframe\n",
    "\n",
    "df = None\n",
    "# this data set comes from a system at stationary on/ off states\n",
    "df =pd.read_excel(\"C:/Users/Admin/Pythonprojects/RAMS/data/Arduino_trainingset_statesOfFunctioningclean.xlsx\", index_col=0)\n",
    "\n",
    "# this data set comes from a system at non-stationary on/off states\n",
    "#df =pd.read_excel(\"C:/Users/Admin/Pythonprojects/RAMS/data/Arduino_trainingset_statesOfFunctioningnoise.xlsx\", index_col=0) \n",
    "\n",
    "# this data set represents the system during deployment at stationary conditions\n",
    "#df =pd.read_excel(\"C:/Users/Admin/Pythonprojects/RAMS/data/Arduino_trainingset_deploymentNormalopen.xlsx\", index_col=0)\n",
    "\n",
    "# this data set represents the system during deployment at non-stationary conditions\n",
    "#df =pd.read_excel(\"C:/Users/Admin/Pythonprojects/RAMS/data/Arduino_trainingset_deploymentNormalclosed.xlsx\", index_col=0)\n",
    "\n",
    "#df = pd.read_csv(\"https://raw.githubusercontent.com/chrisrijsdijk/RAMS/master/data/Oilanalysis.csv\", sep=\";\")"
   ]
  },
  {
   "cell_type": "code",
   "execution_count": 3,
   "metadata": {},
   "outputs": [
    {
     "data": {
      "text/plain": [
       "systemState     object\n",
       "VoltageA0      float64\n",
       "VoltageA1      float64\n",
       "VoltageA2        int64\n",
       "dtype: object"
      ]
     },
     "execution_count": 3,
     "metadata": {},
     "output_type": "execute_result"
    }
   ],
   "source": [
    "# check the datatypes in the dataframe to verify that all columns except for \"Age\" are numerical\n",
    "\n",
    "df.dtypes"
   ]
  },
  {
   "cell_type": "code",
   "execution_count": 4,
   "metadata": {},
   "outputs": [
    {
     "data": {
      "text/html": [
       "<div>\n",
       "<style scoped>\n",
       "    .dataframe tbody tr th:only-of-type {\n",
       "        vertical-align: middle;\n",
       "    }\n",
       "\n",
       "    .dataframe tbody tr th {\n",
       "        vertical-align: top;\n",
       "    }\n",
       "\n",
       "    .dataframe thead th {\n",
       "        text-align: right;\n",
       "    }\n",
       "</style>\n",
       "<table border=\"1\" class=\"dataframe\">\n",
       "  <thead>\n",
       "    <tr style=\"text-align: right;\">\n",
       "      <th></th>\n",
       "      <th>VoltageA0</th>\n",
       "      <th>VoltageA1</th>\n",
       "      <th>VoltageA2</th>\n",
       "    </tr>\n",
       "  </thead>\n",
       "  <tbody>\n",
       "    <tr>\n",
       "      <th>count</th>\n",
       "      <td>365.000000</td>\n",
       "      <td>365.000000</td>\n",
       "      <td>365.0</td>\n",
       "    </tr>\n",
       "    <tr>\n",
       "      <th>mean</th>\n",
       "      <td>2.106986</td>\n",
       "      <td>1.225425</td>\n",
       "      <td>0.0</td>\n",
       "    </tr>\n",
       "    <tr>\n",
       "      <th>std</th>\n",
       "      <td>2.322901</td>\n",
       "      <td>1.351001</td>\n",
       "      <td>0.0</td>\n",
       "    </tr>\n",
       "    <tr>\n",
       "      <th>min</th>\n",
       "      <td>0.000000</td>\n",
       "      <td>0.000000</td>\n",
       "      <td>0.0</td>\n",
       "    </tr>\n",
       "    <tr>\n",
       "      <th>25%</th>\n",
       "      <td>0.000000</td>\n",
       "      <td>0.000000</td>\n",
       "      <td>0.0</td>\n",
       "    </tr>\n",
       "    <tr>\n",
       "      <th>50%</th>\n",
       "      <td>0.000000</td>\n",
       "      <td>0.000000</td>\n",
       "      <td>0.0</td>\n",
       "    </tr>\n",
       "    <tr>\n",
       "      <th>75%</th>\n",
       "      <td>4.660000</td>\n",
       "      <td>2.710000</td>\n",
       "      <td>0.0</td>\n",
       "    </tr>\n",
       "    <tr>\n",
       "      <th>max</th>\n",
       "      <td>4.670000</td>\n",
       "      <td>2.720000</td>\n",
       "      <td>0.0</td>\n",
       "    </tr>\n",
       "  </tbody>\n",
       "</table>\n",
       "</div>"
      ],
      "text/plain": [
       "        VoltageA0   VoltageA1  VoltageA2\n",
       "count  365.000000  365.000000      365.0\n",
       "mean     2.106986    1.225425        0.0\n",
       "std      2.322901    1.351001        0.0\n",
       "min      0.000000    0.000000        0.0\n",
       "25%      0.000000    0.000000        0.0\n",
       "50%      0.000000    0.000000        0.0\n",
       "75%      4.660000    2.710000        0.0\n",
       "max      4.670000    2.720000        0.0"
      ]
     },
     "execution_count": 4,
     "metadata": {},
     "output_type": "execute_result"
    }
   ],
   "source": [
    "# get a preview on the data\n",
    "\n",
    "#df.head(3)\n",
    "df.describe()\n",
    "#len(df[\"BRSTVD\"])"
   ]
  },
  {
   "cell_type": "code",
   "execution_count": 5,
   "metadata": {},
   "outputs": [
    {
     "name": "stderr",
     "output_type": "stream",
     "text": [
      "C:\\Users\\Admin\\anaconda3\\lib\\site-packages\\pandas\\plotting\\_matplotlib\\misc.py:89: UserWarning: Attempting to set identical left == right == 0.0 results in singular transformations; automatically expanding.\n",
      "  ax.set_xlim(boundaries_list[j])\n",
      "C:\\Users\\Admin\\anaconda3\\lib\\site-packages\\pandas\\plotting\\_matplotlib\\misc.py:90: UserWarning: Attempting to set identical bottom == top == 0.0 results in singular transformations; automatically expanding.\n",
      "  ax.set_ylim(boundaries_list[i])\n",
      "C:\\Users\\Admin\\anaconda3\\lib\\site-packages\\pandas\\plotting\\_matplotlib\\misc.py:80: UserWarning: Attempting to set identical left == right == 0.0 results in singular transformations; automatically expanding.\n",
      "  ax.set_xlim(boundaries_list[i])\n"
     ]
    },
    {
     "data": {
      "text/plain": [
       "array([[<AxesSubplot:xlabel='VoltageA0', ylabel='VoltageA0'>,\n",
       "        <AxesSubplot:xlabel='VoltageA1', ylabel='VoltageA0'>,\n",
       "        <AxesSubplot:xlabel='VoltageA2', ylabel='VoltageA0'>],\n",
       "       [<AxesSubplot:xlabel='VoltageA0', ylabel='VoltageA1'>,\n",
       "        <AxesSubplot:xlabel='VoltageA1', ylabel='VoltageA1'>,\n",
       "        <AxesSubplot:xlabel='VoltageA2', ylabel='VoltageA1'>],\n",
       "       [<AxesSubplot:xlabel='VoltageA0', ylabel='VoltageA2'>,\n",
       "        <AxesSubplot:xlabel='VoltageA1', ylabel='VoltageA2'>,\n",
       "        <AxesSubplot:xlabel='VoltageA2', ylabel='VoltageA2'>]],\n",
       "      dtype=object)"
      ]
     },
     "execution_count": 5,
     "metadata": {},
     "output_type": "execute_result"
    },
    {
     "data": {
      "image/png": "[encoded data removed]",
      "text/plain": [
       "<Figure size 432x288 with 9 Axes>"
      ]
     },
     "metadata": {
      "needs_background": "light"
     },
     "output_type": "display_data"
    }
   ],
   "source": [
    "#make some scatter plots\n",
    "\n",
    "pd.plotting.scatter_matrix(df)"
   ]
  },
  {
   "cell_type": "code",
   "execution_count": 6,
   "metadata": {},
   "outputs": [],
   "source": [
    "#perform k-means clustering to check for nonlinear dependencies among the df columns\n",
    "\n",
    "from sklearn.cluster import KMeans\n",
    "from sklearn.preprocessing import StandardScaler\n",
    "from sklearn.impute import KNNImputer\n"
   ]
  },
  {
   "cell_type": "code",
   "execution_count": 7,
   "metadata": {},
   "outputs": [],
   "source": [
    "#dispose first column of the dataframe because it is not numerical\n",
    "\n",
    "X=df.iloc[:,1:]\n"
   ]
  },
  {
   "cell_type": "code",
   "execution_count": 8,
   "metadata": {},
   "outputs": [],
   "source": [
    "#impute data in case of NaN's by using K nearest neighbour\n",
    "\n",
    "imputer = KNNImputer(n_neighbors=5, weights=\"distance\")\n",
    "X=imputer.fit_transform(X)\n"
   ]
  },
  {
   "cell_type": "code",
   "execution_count": 9,
   "metadata": {},
   "outputs": [],
   "source": [
    "#transpose the dataframe while disposing the first non-numerical column\n",
    "\n",
    "scaler=StandardScaler()\n",
    "\n",
    "X = scaler.fit_transform(X)\n",
    "#print(scaler.mean_)\n"
   ]
  },
  {
   "cell_type": "code",
   "execution_count": 10,
   "metadata": {},
   "outputs": [
    {
     "name": "stderr",
     "output_type": "stream",
     "text": [
      "C:\\Users\\Admin\\anaconda3\\lib\\site-packages\\sklearn\\cluster\\_kmeans.py:881: UserWarning: KMeans is known to have a memory leak on Windows with MKL, when there are less chunks than available threads. You can avoid it by setting the environment variable OMP_NUM_THREADS=2.\n",
      "  warnings.warn(\n",
      "<ipython-input-10-bee62693683d>:7: ConvergenceWarning: Number of distinct clusters (5) found smaller than n_clusters (6). Possibly due to duplicate points in X.\n",
      "  kmeanModel.fit(X)\n",
      "<ipython-input-10-bee62693683d>:7: ConvergenceWarning: Number of distinct clusters (5) found smaller than n_clusters (7). Possibly due to duplicate points in X.\n",
      "  kmeanModel.fit(X)\n",
      "<ipython-input-10-bee62693683d>:7: ConvergenceWarning: Number of distinct clusters (5) found smaller than n_clusters (8). Possibly due to duplicate points in X.\n",
      "  kmeanModel.fit(X)\n",
      "<ipython-input-10-bee62693683d>:7: ConvergenceWarning: Number of distinct clusters (5) found smaller than n_clusters (9). Possibly due to duplicate points in X.\n",
      "  kmeanModel.fit(X)\n"
     ]
    }
   ],
   "source": [
    "#prepare an elbow plot to visually determine a feasible number of clusters\n",
    "\n",
    "inertia = []\n",
    "K = range(1,10)\n",
    "for k in K:\n",
    "    kmeanModel = KMeans(n_clusters=k)\n",
    "    kmeanModel.fit(X)\n",
    "    inertia.append(kmeanModel.inertia_)\n"
   ]
  },
  {
   "cell_type": "code",
   "execution_count": 11,
   "metadata": {},
   "outputs": [
    {
     "data": {
      "image/png": "[encoded data removed]",
      "text/plain": [
       "<Figure size 1152x576 with 1 Axes>"
      ]
     },
     "metadata": {
      "needs_background": "light"
     },
     "output_type": "display_data"
    }
   ],
   "source": [
    "#create the elbow plot\n",
    "\n",
    "plt.figure(figsize=(16,8))\n",
    "plt.plot(K, inertia, 'bx-')\n",
    "plt.xlabel('number of clusters k')\n",
    "plt.ylabel('Inertia')\n",
    "plt.title('Choose the lowest k where the inertia tends to flatten')\n",
    "plt.show()\n"
   ]
  },
  {
   "cell_type": "code",
   "execution_count": 12,
   "metadata": {},
   "outputs": [
    {
     "data": {
      "text/plain": [
       "KMeans(n_clusters=2)"
      ]
     },
     "execution_count": 12,
     "metadata": {},
     "output_type": "execute_result"
    }
   ],
   "source": [
    "# perform the k-means clustering while filling the preferred number of clusters in the first line\n",
    "\n",
    "#the number of clusters k is:\n",
    "k=2\n",
    "\n",
    "kmeanModel = KMeans(n_clusters=k)\n",
    "kmeanModel.fit(X)\n",
    "#kmeanModel.predict(X)\n"
   ]
  },
  {
   "cell_type": "code",
   "execution_count": 13,
   "metadata": {},
   "outputs": [],
   "source": [
    "# display some properties of the clustering as one whishes to\n",
    "\n",
    "#kmeanModel.inertia_\n",
    "#kmeanModel.labels_\n",
    "#kmeanModel.n_iter_\n",
    "#kmeanModel.cluster_centers_"
   ]
  },
  {
   "cell_type": "code",
   "execution_count": 14,
   "metadata": {},
   "outputs": [
    {
     "data": {
      "text/html": [
       "<div>\n",
       "<style scoped>\n",
       "    .dataframe tbody tr th:only-of-type {\n",
       "        vertical-align: middle;\n",
       "    }\n",
       "\n",
       "    .dataframe tbody tr th {\n",
       "        vertical-align: top;\n",
       "    }\n",
       "\n",
       "    .dataframe thead th {\n",
       "        text-align: right;\n",
       "    }\n",
       "</style>\n",
       "<table border=\"1\" class=\"dataframe\">\n",
       "  <thead>\n",
       "    <tr style=\"text-align: right;\">\n",
       "      <th></th>\n",
       "      <th>VoltageA0</th>\n",
       "      <th>VoltageA1</th>\n",
       "      <th>VoltageA2</th>\n",
       "    </tr>\n",
       "    <tr>\n",
       "      <th>clusterlabels</th>\n",
       "      <th></th>\n",
       "      <th></th>\n",
       "      <th></th>\n",
       "    </tr>\n",
       "  </thead>\n",
       "  <tbody>\n",
       "    <tr>\n",
       "      <th>0</th>\n",
       "      <td>0.000000</td>\n",
       "      <td>0.000000</td>\n",
       "      <td>0</td>\n",
       "    </tr>\n",
       "    <tr>\n",
       "      <th>1</th>\n",
       "      <td>4.660909</td>\n",
       "      <td>2.710788</td>\n",
       "      <td>0</td>\n",
       "    </tr>\n",
       "  </tbody>\n",
       "</table>\n",
       "</div>"
      ],
      "text/plain": [
       "               VoltageA0  VoltageA1  VoltageA2\n",
       "clusterlabels                                 \n",
       "0               0.000000   0.000000          0\n",
       "1               4.660909   2.710788          0"
      ]
     },
     "execution_count": 14,
     "metadata": {},
     "output_type": "execute_result"
    }
   ],
   "source": [
    "# add the clusterlabels to the dataframe of samples\n",
    "\n",
    "df[\"clusterlabels\"]=kmeanModel.labels_\n",
    "#df=df.sort_values(\"clusterlabels\")\n",
    "#df.describe()\n",
    "dfclustermeans=df.groupby(\"clusterlabels\").mean()\n",
    "dfclustermeans"
   ]
  },
  {
   "cell_type": "code",
   "execution_count": 15,
   "metadata": {},
   "outputs": [],
   "source": [
    "# apply the k-means clustering to the Arduino controller"
   ]
  },
  {
   "cell_type": "code",
   "execution_count": 16,
   "metadata": {
    "tags": []
   },
   "outputs": [],
   "source": [
    "import serial\n",
    "import time\n",
    "import keyboard"
   ]
  },
  {
   "cell_type": "code",
   "execution_count": 20,
   "metadata": {
    "tags": []
   },
   "outputs": [],
   "source": [
    "# connect with Arduino\n",
    "\n",
    "ser = serial.Serial('COM3', 9600, timeout=1)\n",
    "time.sleep(1)"
   ]
  },
  {
   "cell_type": "code",
   "execution_count": 21,
   "metadata": {
    "tags": []
   },
   "outputs": [],
   "source": [
    "# read write the serial connection at a given sampling rate\n",
    "\n",
    "def write_read(x):\n",
    "    ser.write(bytes(x, 'utf-8'))\n",
    "    time.sleep(0.05)\n",
    "    data = ser.readline()\n",
    "    return data"
   ]
  },
  {
   "cell_type": "code",
   "execution_count": 22,
   "metadata": {
    "tags": []
   },
   "outputs": [
    {
     "name": "stdout",
     "output_type": "stream",
     "text": [
      "Press <1> to switch power on\n",
      "Press <0> to switch power off\n",
      "Press <q> to quit\n",
      ".............................\n",
      "2022-07-19 08:24:55                                                                                                                                                            Distance to nearest cluster: 0.0                                                                                                                                              Process values:  [0. 0. 0.]                                                                                                                                                                        Nearest cluster mean:  [-0.  0.  0.]                                                                                                                                                                    .                                                                                                                                                                                                                       \n",
      "You Pressed <q>uit!\n"
     ]
    }
   ],
   "source": [
    "# start to control the Arduino while collecting the data\n",
    "\n",
    "values=[]\n",
    "timestamp=[]\n",
    "i= True\n",
    "num = '0'\n",
    "print(\"Press <1> to switch power on\")\n",
    "print(\"Press <0> to switch power off\")\n",
    "print(\"Press <q> to quit\")\n",
    "print(\".............................\")\n",
    "\n",
    "while i:  # making a loop\n",
    "    \n",
    "    if keyboard.is_pressed('q'):  # if key 'q' is pressed \n",
    "        print('')\n",
    "        print('You Pressed <q>uit!')\n",
    "        i = False                 # finishing the loop\n",
    "        \n",
    "    elif keyboard.is_pressed('0'): # if key '0' is pressed\n",
    "        num = '0'\n",
    "        \n",
    "    elif keyboard.is_pressed('1'): # if key '1' is pressed\n",
    "        num = '1'\n",
    "        \n",
    "    else:\n",
    "        value = write_read(num)                          # if user pressed a key other than the given key the loop will break\n",
    "        timestamp.append(time.time())\n",
    "        dummy = value.decode().rstrip().split()\n",
    "        dum4 = np.array([[float(i) for i in dummy[1:]]])\n",
    "        dum0 = scaler.transform(dum4)                   # dum0 is a transformation of the data applied during fitting\n",
    "        dum1 = kmeanModel.predict(dum0)                 # dum1 is the label of the nearest clustermean\n",
    "        dum2 = kmeanModel.cluster_centers_[dum1]        # dum2 is an array of coordinates of the nearest clustermean\n",
    "        dum3 = scaler.inverse_transform(dum2)           # reschale     \n",
    "                                                        #for the SoFu clean data set, the threshold could be 0.03\n",
    "                                                        #for the SoFu noisy data set, the threshold could be 0.4\n",
    "                                                        #for the Deployment data sets, the threshold could be 0.10\n",
    "        \n",
    "        if (np.linalg.norm(dum4-dum3)>0.03):\n",
    "            print(str(pd.to_datetime(round(time.time(), 0),unit = 's')),\"                                                                                                                                                          \", \n",
    "                  \" Distance to nearest cluster:\", round(np.linalg.norm(dum4-dum3),2),\"                                                                                                                                            \",\n",
    "                  \" Process values: \", np.around(dum4[0],2),\"                                                                                                                                                                      \",\n",
    "                  \" ANOMALY!!!                                                                                                                                                                                                      \", \n",
    "                  \".                                                                                                                                                                                                                \",\n",
    "                  end = \"\\r\")\n",
    "    \n",
    "        else:\n",
    "            print(str(pd.to_datetime(round(time.time(), 0),unit = 's')),\"                                                                                                                                                         \", \n",
    "                  \" Distance to nearest cluster:\", round(np.linalg.norm(dum4-dum3),2),\"                                                                                                                                           \",\n",
    "                  \" Process values: \", np.around(dum4[0],2),\"                                                                                                                                                                     \",\n",
    "                  \" Nearest cluster mean: \",np.around(dum3[0],2),\"                                                                                                                                                                \", \n",
    "                  \"  .                                                                                                                                                                                                             \",\n",
    "                  end = \"\\r\")\n",
    "        \n",
    "ser.close()"
   ]
  },
  {
   "cell_type": "markdown",
   "metadata": {
    "tags": []
   },
   "source": [
    "# "
   ]
  },
  {
   "cell_type": "markdown",
   "metadata": {
    "jupyter": {
     "outputs_hidden": true
    },
    "tags": []
   },
   "source": [
    "# np.around(dum3,2)"
   ]
  },
  {
   "cell_type": "code",
   "execution_count": null,
   "metadata": {},
   "outputs": [],
   "source": []
  }
 ],
 "metadata": {
  "kernelspec": {
   "display_name": "Python 3",
   "language": "python",
   "name": "python3"
  },
  "language_info": {
   "codemirror_mode": {
    "name": "ipython",
    "version": 3
   },
   "file_extension": ".py",
   "mimetype": "text/x-python",
   "name": "python",
   "nbconvert_exporter": "python",
   "pygments_lexer": "ipython3",
   "version": "3.8.8"
  },
  "toc-autonumbering": false,
  "toc-showcode": true,
  "toc-showmarkdowntxt": true
 },
 "nbformat": 4,
 "nbformat_minor": 4
}
