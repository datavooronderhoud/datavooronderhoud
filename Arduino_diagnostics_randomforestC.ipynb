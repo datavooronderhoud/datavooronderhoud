{
 "cells": [
  {
   "cell_type": "code",
   "execution_count": 1,
   "metadata": {},
   "outputs": [],
   "source": [
    "import pandas as pd\n",
    "import numpy as np\n",
    "import matplotlib.pyplot as plt"
   ]
  },
  {
   "cell_type": "code",
   "execution_count": 20,
   "metadata": {},
   "outputs": [],
   "source": [
    "#load some data in a pandas dataframe\n",
    "\n",
    "df = None\n",
    "\n",
    "# this data set represents the system during deployment at non-stationary conditions\n",
    "df =pd.read_excel(\"C:/Users/Admin/Pythonprojects/RAMS/data/Arduino_trainingset_deploymentNormalopenLabel.xlsx\", index_col=0)\n",
    "\n",
    "#df = pd.read_csv(\"https://raw.githubusercontent.com/chrisrijsdijk/RAMS/master/data/Oilanalysis.csv\", sep=\";\")"
   ]
  },
  {
   "cell_type": "code",
   "execution_count": 21,
   "metadata": {},
   "outputs": [
    {
     "data": {
      "text/plain": [
       "systemState     object\n",
       "VoltageA0      float64\n",
       "VoltageA1      float64\n",
       "VoltageA2        int64\n",
       "S1              object\n",
       "F1              object\n",
       "F2              object\n",
       "F3              object\n",
       "F4              object\n",
       "F5              object\n",
       "F6              object\n",
       "dtype: object"
      ]
     },
     "execution_count": 21,
     "metadata": {},
     "output_type": "execute_result"
    }
   ],
   "source": [
    "# check the datatypes in the dataframe to verify that all columns except for \"Age\" are numerical\n",
    "\n",
    "df.dtypes"
   ]
  },
  {
   "cell_type": "code",
   "execution_count": 22,
   "metadata": {},
   "outputs": [
    {
     "data": {
      "text/html": [
       "<div>\n",
       "<style scoped>\n",
       "    .dataframe tbody tr th:only-of-type {\n",
       "        vertical-align: middle;\n",
       "    }\n",
       "\n",
       "    .dataframe tbody tr th {\n",
       "        vertical-align: top;\n",
       "    }\n",
       "\n",
       "    .dataframe thead th {\n",
       "        text-align: right;\n",
       "    }\n",
       "</style>\n",
       "<table border=\"1\" class=\"dataframe\">\n",
       "  <thead>\n",
       "    <tr style=\"text-align: right;\">\n",
       "      <th></th>\n",
       "      <th>VoltageA0</th>\n",
       "      <th>VoltageA1</th>\n",
       "      <th>VoltageA2</th>\n",
       "    </tr>\n",
       "  </thead>\n",
       "  <tbody>\n",
       "    <tr>\n",
       "      <th>count</th>\n",
       "      <td>1699.000000</td>\n",
       "      <td>1699.000000</td>\n",
       "      <td>1699.000000</td>\n",
       "    </tr>\n",
       "    <tr>\n",
       "      <th>mean</th>\n",
       "      <td>0.755491</td>\n",
       "      <td>0.426174</td>\n",
       "      <td>0.050029</td>\n",
       "    </tr>\n",
       "    <tr>\n",
       "      <th>std</th>\n",
       "      <td>1.743454</td>\n",
       "      <td>1.108845</td>\n",
       "      <td>0.497785</td>\n",
       "    </tr>\n",
       "    <tr>\n",
       "      <th>min</th>\n",
       "      <td>0.000000</td>\n",
       "      <td>0.000000</td>\n",
       "      <td>0.000000</td>\n",
       "    </tr>\n",
       "    <tr>\n",
       "      <th>25%</th>\n",
       "      <td>0.000000</td>\n",
       "      <td>0.000000</td>\n",
       "      <td>0.000000</td>\n",
       "    </tr>\n",
       "    <tr>\n",
       "      <th>50%</th>\n",
       "      <td>0.000000</td>\n",
       "      <td>0.000000</td>\n",
       "      <td>0.000000</td>\n",
       "    </tr>\n",
       "    <tr>\n",
       "      <th>75%</th>\n",
       "      <td>0.000000</td>\n",
       "      <td>0.000000</td>\n",
       "      <td>0.000000</td>\n",
       "    </tr>\n",
       "    <tr>\n",
       "      <th>max</th>\n",
       "      <td>5.000000</td>\n",
       "      <td>5.000000</td>\n",
       "      <td>5.000000</td>\n",
       "    </tr>\n",
       "  </tbody>\n",
       "</table>\n",
       "</div>"
      ],
      "text/plain": [
       "         VoltageA0    VoltageA1    VoltageA2\n",
       "count  1699.000000  1699.000000  1699.000000\n",
       "mean      0.755491     0.426174     0.050029\n",
       "std       1.743454     1.108845     0.497785\n",
       "min       0.000000     0.000000     0.000000\n",
       "25%       0.000000     0.000000     0.000000\n",
       "50%       0.000000     0.000000     0.000000\n",
       "75%       0.000000     0.000000     0.000000\n",
       "max       5.000000     5.000000     5.000000"
      ]
     },
     "execution_count": 22,
     "metadata": {},
     "output_type": "execute_result"
    }
   ],
   "source": [
    "# get a preview on the data\n",
    "\n",
    "#df.head(3)\n",
    "df.describe()\n",
    "#len(df[\"BRSTVD\"])"
   ]
  },
  {
   "cell_type": "code",
   "execution_count": 23,
   "metadata": {},
   "outputs": [
    {
     "data": {
      "text/plain": [
       "array([[<AxesSubplot:xlabel='VoltageA0', ylabel='VoltageA0'>,\n",
       "        <AxesSubplot:xlabel='VoltageA1', ylabel='VoltageA0'>,\n",
       "        <AxesSubplot:xlabel='VoltageA2', ylabel='VoltageA0'>],\n",
       "       [<AxesSubplot:xlabel='VoltageA0', ylabel='VoltageA1'>,\n",
       "        <AxesSubplot:xlabel='VoltageA1', ylabel='VoltageA1'>,\n",
       "        <AxesSubplot:xlabel='VoltageA2', ylabel='VoltageA1'>],\n",
       "       [<AxesSubplot:xlabel='VoltageA0', ylabel='VoltageA2'>,\n",
       "        <AxesSubplot:xlabel='VoltageA1', ylabel='VoltageA2'>,\n",
       "        <AxesSubplot:xlabel='VoltageA2', ylabel='VoltageA2'>]],\n",
       "      dtype=object)"
      ]
     },
     "execution_count": 23,
     "metadata": {},
     "output_type": "execute_result"
    },
    {
     "data": {
      "image/png": "[encoded data removed]",
      "text/plain": [
       "<Figure size 432x288 with 9 Axes>"
      ]
     },
     "metadata": {
      "needs_background": "light"
     },
     "output_type": "display_data"
    }
   ],
   "source": [
    "#make some scatter plots\n",
    "\n",
    "pd.plotting.scatter_matrix(df)"
   ]
  },
  {
   "cell_type": "code",
   "execution_count": 24,
   "metadata": {},
   "outputs": [],
   "source": [
    "# convert categorical variables into indicator functions\n",
    "\n",
    "df = pd.get_dummies(df,columns=[\"S1\",\"F1\",\"F2\",\"F3\",\"F4\",\"F5\",\"F6\"])\n",
    "#df"
   ]
  },
  {
   "cell_type": "code",
   "execution_count": 25,
   "metadata": {},
   "outputs": [],
   "source": [
    "# make a dictionary that maps the dummies to plain English\n",
    "\n",
    "failure_dict = {}\n",
    "\n",
    "failure_dict[\"F1_?\"] = {0: \"\", 1:\"WIRE_TO_LIGHT open circuit possible                                                                                                                             \"}\n",
    "failure_dict[\"F1_T\"] = {0: \"\", 1:\"WIRE_TO_LIGHT open circuit                                                                                                                                      \"}\n",
    "failure_dict[\"F1_F\"] = {0: \"\", 1:\"WIRE_TO_LIGHT no open circuit                                                                                                                                   \"}\n",
    "\n",
    "failure_dict[\"F2_?\"] = {0: \"\", 1:\"LIGHT open circuit possible                                                                                                                                     \"}\n",
    "failure_dict[\"F2_T\"] = {0: \"\", 1:\"LIGHT open circuit                                                                                                                                              \"}\n",
    "failure_dict[\"F2_F\"] = {0: \"\", 1:\"LIGHT no open circuit                                                                                                                                           \"}\n",
    "\n",
    "failure_dict[\"F3_?\"] = {0: \"\", 1:\"LIGHT short circuit possible                                                                                                                                    \"}\n",
    "failure_dict[\"F3_T\"] = {0: \"\", 1:\"LIGHT short circuit                                                                                                                                             \"}\n",
    "failure_dict[\"F3_F\"] = {0: \"\", 1:\"LIGHT no short circuit                                                                                                                                          \"}\n",
    "\n",
    "failure_dict[\"F4_?\"] = {0: \"\", 1:\"RESISTOR open circuit possible                                                                                                                                  \"}\n",
    "failure_dict[\"F4_T\"] = {0: \"\", 1:\"RESISTOR open circuit                                                                                                                                           \"}\n",
    "failure_dict[\"F4_F\"] = {0: \"\", 1:\"RESISTOR no open circuit                                                                                                                                        \"}\n",
    "\n",
    "failure_dict[\"F5_?\"] = {0: \"\", 1:\"RESISTOR short circuit possible                                                                                                                                 \"}\n",
    "failure_dict[\"F5_T\"] = {0: \"\", 1:\"RESISTOR short circuit                                                                                                                                          \"}\n",
    "failure_dict[\"F5_F\"] = {0: \"\", 1:\"RESISTOR no short circuit                                                                                                                                       \"}\n",
    "\n",
    "failure_dict[\"F6_?\"] = {0: \"\", 1:\"WIRE_TO_GROUND open circuit possible                                                                                                                            \"}\n",
    "failure_dict[\"F6_T\"] = {0: \"\", 1:\"WIRE_TO_GROUND open circuit                                                                                                                                     \"}\n",
    "failure_dict[\"F6_F\"] = {0: \"\", 1:\"WIRE_TO_GROUND no open circuit                                                                                                                                  \"}"
   ]
  },
  {
   "cell_type": "code",
   "execution_count": 26,
   "metadata": {},
   "outputs": [],
   "source": [
    "# define the response variable and convert it into an np.array\n",
    "    \n",
    "y_F1_  = np.array(df[\"F1_?\"])\n",
    "y_F1_F = np.array(df[\"F1_F\"])\n",
    "#y_F1_T = np.array(df[\"F1_T\"])\n",
    "    \n",
    "y_F2_  = np.array(df[\"F2_?\"])\n",
    "y_F2_F = np.array(df[\"F2_F\"])\n",
    "y_F2_T = np.array(df[\"F2_T\"])\n",
    "\n",
    "y_F3_  = np.array(df[\"F3_?\"])\n",
    "y_F3_F = np.array(df[\"F3_F\"])\n",
    "#y_F3_T = np.array(df[\"F3_T\"])\n",
    "    \n",
    "y_F4_  = np.array(df[\"F4_?\"])\n",
    "y_F4_F = np.array(df[\"F4_F\"])\n",
    "y_F4_T = np.array(df[\"F4_T\"])\n",
    "\n",
    "y_F5_  = np.array(df[\"F5_?\"])\n",
    "y_F5_F = np.array(df[\"F5_F\"])\n",
    "#y_F5_T = np.array(df[\"F5_T\"])\n",
    "    \n",
    "y_F6_  = np.array(df[\"F6_?\"])\n",
    "y_F6_F = np.array(df[\"F6_F\"])\n",
    "y_F6_T = np.array(df[\"F6_T\"])"
   ]
  },
  {
   "cell_type": "code",
   "execution_count": 27,
   "metadata": {},
   "outputs": [],
   "source": [
    "#perform RF\n",
    "\n",
    "from sklearn.impute import KNNImputer\n",
    "#from sklearn.model_selection import train_test_split\n",
    "from sklearn.ensemble import RandomForestClassifier\n",
    "from sklearn import tree\n",
    "#from sklearn.tree import DecisionTreeClassifie\n",
    "\n",
    "from sklearn.inspection import permutation_importance"
   ]
  },
  {
   "cell_type": "code",
   "execution_count": 28,
   "metadata": {},
   "outputs": [],
   "source": [
    "# define the explanatory variables\n",
    "\n",
    "X=df.iloc[:,1:4]\n",
    "X_names=df.iloc[:,1:4].columns"
   ]
  },
  {
   "cell_type": "code",
   "execution_count": 29,
   "metadata": {},
   "outputs": [
    {
     "data": {
      "text/plain": [
       "Index(['VoltageA0', 'VoltageA1', 'VoltageA2'], dtype='object')"
      ]
     },
     "execution_count": 29,
     "metadata": {},
     "output_type": "execute_result"
    }
   ],
   "source": [
    "#dispose first column of the dataframe because it is not numerical\n",
    "\n",
    "X_names\n"
   ]
  },
  {
   "cell_type": "code",
   "execution_count": 30,
   "metadata": {},
   "outputs": [],
   "source": [
    "#impute data in case of NaN's by using K nearest neighbour\n",
    "\n",
    "imputer = KNNImputer(n_neighbors=5, weights=\"distance\")\n",
    "X=imputer.fit_transform(X)\n"
   ]
  },
  {
   "cell_type": "code",
   "execution_count": 31,
   "metadata": {},
   "outputs": [
    {
     "data": {
      "text/plain": [
       "RandomForestClassifier(n_estimators=40)"
      ]
     },
     "execution_count": 31,
     "metadata": {},
     "output_type": "execute_result"
    }
   ],
   "source": [
    "# Define and fit the model\n",
    "\n",
    "rf_F1_  = RandomForestClassifier(n_estimators = 40, criterion=\"gini\",random_state = None)\n",
    "rf_F1_F = RandomForestClassifier(n_estimators = 40, criterion=\"gini\",random_state = None)\n",
    "#rf_F1_T = RandomForestClassifier(n_estimators = 40, criterion=\"gini\",random_state = None)\n",
    "\n",
    "rf_F2_  = RandomForestClassifier(n_estimators = 40, criterion=\"gini\",random_state = None)\n",
    "rf_F2_F = RandomForestClassifier(n_estimators = 40, criterion=\"gini\",random_state = None)\n",
    "rf_F2_T = RandomForestClassifier(n_estimators = 40, criterion=\"gini\",random_state = None)\n",
    "\n",
    "rf_F3_  = RandomForestClassifier(n_estimators = 40, criterion=\"gini\",random_state = None)\n",
    "rf_F3_F = RandomForestClassifier(n_estimators = 40, criterion=\"gini\",random_state = None)\n",
    "#rf_F3_T = RandomForestClassifier(n_estimators = 40, criterion=\"gini\",random_state = None)\n",
    "\n",
    "rf_F4_  = RandomForestClassifier(n_estimators = 40, criterion=\"gini\",random_state = None)\n",
    "rf_F4_F = RandomForestClassifier(n_estimators = 40, criterion=\"gini\",random_state = None)\n",
    "rf_F4_T = RandomForestClassifier(n_estimators = 40, criterion=\"gini\",random_state = None)\n",
    "\n",
    "rf_F5_  = RandomForestClassifier(n_estimators = 40, criterion=\"gini\",random_state = None)\n",
    "rf_F5_F = RandomForestClassifier(n_estimators = 40, criterion=\"gini\",random_state = None)\n",
    "#rf_F5_T = RandomForestClassifier(n_estimators = 40, criterion=\"gini\",random_state = None)\n",
    "\n",
    "rf_F6_  = RandomForestClassifier(n_estimators = 40, criterion=\"gini\",random_state = None)\n",
    "rf_F6_F = RandomForestClassifier(n_estimators = 40, criterion=\"gini\",random_state = None)\n",
    "rf_F6_T = RandomForestClassifier(n_estimators = 40, criterion=\"gini\",random_state = None)\n",
    "\n",
    "rf_F1_.fit(X, y_F1_)\n",
    "rf_F1_F.fit(X, y_F1_F)\n",
    "#rf_F1_T.fit(X, y_F1_T)\n",
    "\n",
    "rf_F2_.fit(X, y_F2_)\n",
    "rf_F2_F.fit(X, y_F2_F)\n",
    "rf_F2_T.fit(X, y_F2_T)\n",
    "\n",
    "rf_F3_.fit(X, y_F3_)\n",
    "rf_F3_F.fit(X, y_F3_F)\n",
    "#rf_F3_T.fit(X, y_F3_T)\n",
    "\n",
    "rf_F4_.fit(X, y_F4_)\n",
    "rf_F4_F.fit(X, y_F4_F)\n",
    "rf_F4_T.fit(X, y_F4_T)\n",
    "\n",
    "rf_F5_.fit(X, y_F5_)\n",
    "rf_F5_F.fit(X, y_F5_F)\n",
    "#rf_F5_T.fit(X, y_F5_T)\n",
    "\n",
    "rf_F6_.fit(X, y_F6_)\n",
    "rf_F6_F.fit(X, y_F6_F)\n",
    "rf_F6_T.fit(X, y_F6_T)"
   ]
  },
  {
   "cell_type": "code",
   "execution_count": 32,
   "metadata": {},
   "outputs": [],
   "source": [
    "#plot the importance of the various explanatory variables using Gini importance\n",
    "\n",
    "#pd.DataFrame(rf_F1_.feature_importances_,index=X_names).sort_values(0,ascending=False)"
   ]
  },
  {
   "cell_type": "code",
   "execution_count": 33,
   "metadata": {},
   "outputs": [],
   "source": [
    "# apply the RF classifier to the Arduino controller"
   ]
  },
  {
   "cell_type": "code",
   "execution_count": 34,
   "metadata": {},
   "outputs": [],
   "source": [
    "import serial\n",
    "import time\n",
    "import keyboard"
   ]
  },
  {
   "cell_type": "code",
   "execution_count": 35,
   "metadata": {},
   "outputs": [],
   "source": [
    "# connect with Arduino\n",
    "\n",
    "ser = serial.Serial('COM3', 9600, timeout=1)\n",
    "time.sleep(1)"
   ]
  },
  {
   "cell_type": "code",
   "execution_count": 36,
   "metadata": {},
   "outputs": [],
   "source": [
    "# read write the serial connection at a given sampling rate\n",
    "\n",
    "def write_read(x):\n",
    "    ser.write(bytes(x, 'utf-8'))\n",
    "    time.sleep(0.001)\n",
    "    data = ser.readline()\n",
    "    return data"
   ]
  },
  {
   "cell_type": "code",
   "execution_count": 37,
   "metadata": {
    "tags": []
   },
   "outputs": [
    {
     "name": "stdout",
     "output_type": "stream",
     "text": [
      "Press <1> to switch power on\n",
      "Press <0> to switch power off\n",
      "Press <q> to quit\n",
      ".............................\n",
      "2022-07-19 11:13:16  Process values:  [0. 0. 0.]                                                                                                                               WIRE_TO_LIGHT open circuit possible                                                                                                                               LIGHT open circuit possible                                                                                                                                        LIGHT short circuit possible                                                                                                                                      RESISTOR open circuit possible                                                                                                                                     RESISTOR short circuit possible                                                                                                                                   WIRE_TO_GROUND open circuit possible                                                                                                                                .                                                                                                                                                                     TOR no short circuit                                                                                                                                        WIRE_TO_GROUND open circuit possible                                                                                                                                .                                                                                                                                                                   WIRE_TO_GROUND open circuit possible                                                                                                                                .                                                                                                                                                                LIGHT short circuit possible                                                                                                                                      RESISTOR open circuit possible                                                                                                                                     RESISTOR short circuit possible                                                                                                                                   WIRE_TO_GROUND open circuit possible                                                                                                                                .                                                                                                                                                                RESISTOR short circuit possible                                                                                                                                     WIRE_TO_GROUND open circuit                                                                                                                                       .                                                                                                                                                               [1.42 0.96 0.96]                                                                                                                               WIRE_TO_LIGHT open circuit possible                                                                                                                               LIGHT open circuit possible                                                                                                                                        LIGHT short circuit possible                                                                                                                                      RESISTOR open circuit possible                                                                                                                                     RESISTOR short circuit possible                                                                                                                                   WIRE_TO_GROUND open circuit possible                                                                                                                                .                                                                                                                                                                                                                                                                                              WIRE_TO_LIGHT open circuit possible                                                                                                                               LIGHT open circuit possible                                                                                                                                        LIGHT short circuit possible                                                                                                                                      RESISTOR open circuit possible                                                                                                                                     RESISTOR short circuit possible                                                                                                                                   WIRE_TO_GROUND open circuit possible                                                                                                                                .                                                                                                                                                                                                                                                                                             WIRE_TO_LIGHT open circuit possible                                                                                                                               LIGHT open circuit possible                                                                                                                                        LIGHT short circuit possible                                                                                                                                      RESISTOR open circuit possible                                                                                                                                     RESISTOR short circuit possible                                                                                                                                   WIRE_TO_GROUND open circuit possible                                                                                                                                .                                                                                                                                                                 WIRE_TO_GROUND open circuit possible                                                                                                                                .                                                                                                                                                                LIGHT open circuit possible                                                                                                                                        LIGHT short circuit possible                                                                                                                                      RESISTOR open circuit possible                                                                                                                                     RESISTOR short circuit possible                                                                                                                                   WIRE_TO_GROUND open circuit possible                                                                                                                                .                                                                                                                                                                 RESISTOR short circuit possible                                                                                                                                   WIRE_TO_GROUND open circuit possible                                                                                                                                .                                                                                                                                                                LIGHT open circuit possible                                                                                                                                        LIGHT short circuit possible                                                                                                                                      RESISTOR open circuit possible                                                                                                                                     RESISTOR short circuit possible                                                                                                                                   WIRE_TO_GROUND open circuit possible                                                                                                                                .                                                                                                                                                                 LIGHT short circuit possible                                                                                                                                      RESISTOR open circuit possible                                                                                                                                     RESISTOR short circuit possible                                                                                                                                   WIRE_TO_GROUND open circuit possible                                                                                                                                .                                                                                                                                                                 .                                                                                                                                                               LIGHT short circuit possible                                                                                                                                        RESISTOR open circuit                                                                                                                                             RESISTOR no short circuit                                                                                                                                        WIRE_TO_GROUND open circuit possible                                                                                                                                .                                                                                                                                                               WIRE_TO_GROUND no open circuit                                                                                                                                     .                                                                                                                                                                  .                                                                                                                                                                [4.99 0.   0.  ]                                                                                                                                WIRE_TO_LIGHT no open circuit                                                                                                                                      LIGHT open circuit                                                                                                                                                LIGHT no short circuit                                                                                                                                           RESISTOR open circuit possible                                                                                                                                     RESISTOR short circuit possible                                                                                                                                   WIRE_TO_GROUND open circuit possible                                                                                                                                .                                                                                                                                                                 WIRE_TO_LIGHT no open circuit                                                                                                                                     LIGHT no open circuit                                                                                                                                              LIGHT no short circuit                                                                                                                                            RESISTOR no open circuit                                                                                                                                           RESISTOR no short circuit                                                                                                                                         WIRE_TO_GROUND no open circuit                                                                                                                                     .                                                                                                                                                               [0. 0. 0.]                                                                                                                               WIRE_TO_LIGHT open circuit possible                                                                                                                               LIGHT open circuit possible                                                                                                                                        LIGHT short circuit possible                                                                                                                                      RESISTOR open circuit possible                                                                                                                                     RESISTOR short circuit possible                                                                                                                                   WIRE_TO_GROUND open circuit possible                                                                                                                                .                                                                                                                                                               \n",
      "You Pressed <q>uit!\n"
     ]
    }
   ],
   "source": [
    "# start to control the Arduino while collecting the data\n",
    "\n",
    "i= True\n",
    "num = '0'\n",
    "print(\"Press <1> to switch power on\")\n",
    "print(\"Press <0> to switch power off\")\n",
    "print(\"Press <q> to quit\")\n",
    "print(\".............................\")\n",
    "\n",
    "while i:  # making a loop\n",
    "    \n",
    "    if keyboard.is_pressed('q'):  # if key 'q' is pressed \n",
    "        print('')\n",
    "        print('You Pressed <q>uit!')\n",
    "        i = False                 # finishing the loop\n",
    "        \n",
    "    elif keyboard.is_pressed('0'): # if key '0' is pressed\n",
    "        num = '0'\n",
    "        \n",
    "    elif keyboard.is_pressed('1'): # if key '1' is pressed\n",
    "        num = '1'\n",
    "        \n",
    "    else:\n",
    "        value = write_read(num)                          # if user pressed a key other than the given key the loop will break\n",
    "\n",
    "        dummy = value.decode().rstrip().split()\n",
    "        dum0 = np.array([[float(i) for i in dummy[1:]]])\n",
    "\n",
    "        dum_F1_ = rf_F1_.predict(dum0)                         # \n",
    "        dum_F1_F = rf_F1_F.predict(dum0)\n",
    "      #  dum_F1_T = rf_F1_T.predict(dum0)    \n",
    "\n",
    "        dum_F2_ = rf_F2_.predict(dum0)                         # \n",
    "        dum_F2_F = rf_F2_F.predict(dum0)\n",
    "        dum_F2_T = rf_F2_T.predict(dum0)    \n",
    "\n",
    "        dum_F3_ = rf_F3_.predict(dum0)                         # \n",
    "        dum_F3_F = rf_F3_F.predict(dum0)\n",
    "      #  dum_F3_T = rf_F3_T.predict(dum0)    \n",
    "\n",
    "        dum_F4_ = rf_F4_.predict(dum0)                         # \n",
    "        dum_F4_F = rf_F4_F.predict(dum0)\n",
    "        dum_F4_T = rf_F4_T.predict(dum0)    \n",
    "\n",
    "        dum_F5_ = rf_F5_.predict(dum0)                         # \n",
    "        dum_F5_F = rf_F5_F.predict(dum0)\n",
    "      #  dum_F5_T = rf_F5_T.predict(dum0) \n",
    " \n",
    "        dum_F6_ = rf_F6_.predict(dum0)                         # \n",
    "        dum_F6_F = rf_F6_F.predict(dum0)\n",
    "        dum_F6_T = rf_F6_T.predict(dum0)  \n",
    "        \n",
    "        print(str(pd.to_datetime(round(time.time(), 0),unit = 's')),\n",
    "              \" Process values: \", np.around(dum0[0],2), \"                                                                                                                             \",\n",
    "              failure_dict[\"F1_?\"][dum_F1_[0]], \n",
    "              failure_dict[\"F1_F\"][dum_F1_F[0]], \n",
    "          #    failure_dict[\"F1_T\"][dum_F1_T[0]], \n",
    "\n",
    "              failure_dict[\"F2_?\"][dum_F2_[0]], \n",
    "              failure_dict[\"F2_F\"][dum_F2_F[0]], \n",
    "              failure_dict[\"F2_T\"][dum_F2_T[0]], \n",
    "\n",
    "              failure_dict[\"F3_?\"][dum_F3_[0]], \n",
    "              failure_dict[\"F3_F\"][dum_F3_F[0]], \n",
    "         #    failure_dict[\"F3_T\"][dum_F3_T[0]], \n",
    "\n",
    "              failure_dict[\"F4_?\"][dum_F4_[0]], \n",
    "              failure_dict[\"F4_F\"][dum_F4_F[0]], \n",
    "              failure_dict[\"F4_T\"][dum_F4_T[0]], \n",
    "\n",
    "              failure_dict[\"F5_?\"][dum_F5_[0]], \n",
    "              failure_dict[\"F5_F\"][dum_F5_F[0]], \n",
    "          #    failure_dict[\"F5_T\"][dum_F5_T[0]], \n",
    "\n",
    "              failure_dict[\"F6_?\"][dum_F6_[0]], \n",
    "              failure_dict[\"F6_F\"][dum_F6_F[0]], \n",
    "              failure_dict[\"F6_T\"][dum_F6_T[0]], \n",
    "              \" .                                                                                                                                                               \",\n",
    "              end = \"\\r\")\n",
    "\n",
    "        \n",
    "ser.close()"
   ]
  },
  {
   "cell_type": "markdown",
   "metadata": {
    "tags": []
   },
   "source": [
    "# "
   ]
  },
  {
   "cell_type": "markdown",
   "metadata": {},
   "source": [
    "# "
   ]
  }
 ],
 "metadata": {
  "kernelspec": {
   "display_name": "Python 3",
   "language": "python",
   "name": "python3"
  },
  "language_info": {
   "codemirror_mode": {
    "name": "ipython",
    "version": 3
   },
   "file_extension": ".py",
   "mimetype": "text/x-python",
   "name": "python",
   "nbconvert_exporter": "python",
   "pygments_lexer": "ipython3",
   "version": "3.8.8"
  },
  "toc-autonumbering": false,
  "toc-showcode": true,
  "toc-showmarkdowntxt": true
 },
 "nbformat": 4,
 "nbformat_minor": 4
}
